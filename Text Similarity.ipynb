{
 "cells": [
  {
   "cell_type": "markdown",
   "metadata": {},
   "source": [
    " # Problem\n",
    "We will have multiple tables in the database, and sometimes there won’t be a common “ID” or “KEY” to join them – scenarios like the following:\n",
    "    • Customer information scattered across multiple tables and systems.\n",
    "    • No global key to link them all together.\n",
    "    • A lot of variations in names and addresses."
   ]
  },
  {
   "cell_type": "markdown",
   "metadata": {},
   "source": [
    "# Solution\n",
    "This can be solved by applying text similarity functions on the demographic’s columns like the first name, last name, address, etc. And based on the similarity score on a few common columns, we can decide either the record pair is a match or not a match"
   ]
  },
  {
   "cell_type": "markdown",
   "metadata": {},
   "source": [
    "# Deduplication in the same table"
   ]
  },
  {
   "cell_type": "code",
   "execution_count": 1,
   "metadata": {},
   "outputs": [
    {
     "name": "stdout",
     "output_type": "stream",
     "text": [
      "Collecting recordlinkage\n",
      "  Downloading recordlinkage-0.14-py3-none-any.whl (944 kB)\n",
      "Requirement already satisfied: pandas>=0.23 in c:\\users\\baban\\appdata\\roaming\\python\\python37\\site-packages (from recordlinkage) (1.0.5)\n",
      "Requirement already satisfied: numpy>=1.13.0 in c:\\users\\baban\\appdata\\roaming\\python\\python37\\site-packages (from recordlinkage) (1.19.0)\n",
      "Requirement already satisfied: scipy>=1 in c:\\users\\baban\\appdata\\roaming\\python\\python37\\site-packages (from recordlinkage) (1.4.1)\n",
      "Requirement already satisfied: scikit-learn>=0.19.0 in c:\\users\\baban\\appdata\\roaming\\python\\python37\\site-packages (from recordlinkage) (0.23.1)\n",
      "Collecting jellyfish>=0.5.4\n",
      "  Downloading jellyfish-0.8.2.tar.gz (134 kB)\n",
      "Requirement already satisfied: joblib in c:\\users\\baban\\appdata\\roaming\\python\\python37\\site-packages (from recordlinkage) (0.15.1)\n",
      "Requirement already satisfied: python-dateutil>=2.6.1 in c:\\users\\baban\\appdata\\roaming\\python\\python37\\site-packages (from pandas>=0.23->recordlinkage) (2.8.1)\n",
      "Requirement already satisfied: pytz>=2017.2 in c:\\users\\baban\\appdata\\roaming\\python\\python37\\site-packages (from pandas>=0.23->recordlinkage) (2020.1)\n",
      "Requirement already satisfied: threadpoolctl>=2.0.0 in c:\\users\\baban\\appdata\\roaming\\python\\python37\\site-packages (from scikit-learn>=0.19.0->recordlinkage) (2.1.0)\n",
      "Requirement already satisfied: six>=1.5 in c:\\users\\baban\\appdata\\roaming\\python\\python37\\site-packages (from python-dateutil>=2.6.1->pandas>=0.23->recordlinkage) (1.15.0)\n",
      "Building wheels for collected packages: jellyfish\n",
      "  Building wheel for jellyfish (setup.py): started\n",
      "  Building wheel for jellyfish (setup.py): finished with status 'done'\n",
      "  Created wheel for jellyfish: filename=jellyfish-0.8.2-py3-none-any.whl size=10424 sha256=ad7eb6a3a68597b1a719f6386cb4fb9ac507ef85828079d6f030b63ed21b7ec4\n",
      "  Stored in directory: c:\\users\\baban\\appdata\\local\\pip\\cache\\wheels\\12\\9e\\c1\\46af1db49a60a4adf555196c0ead132e4a36a2bd69b078e740\n",
      "Successfully built jellyfish\n",
      "Installing collected packages: jellyfish, recordlinkage\n",
      "Successfully installed jellyfish-0.8.2 recordlinkage-0.14\n"
     ]
    }
   ],
   "source": []
  },
  {
   "cell_type": "code",
   "execution_count": 2,
   "metadata": {},
   "outputs": [],
   "source": [
    "# Import package\n",
    "import recordlinkage\n",
    "#For this demo let us use the inbuilt dataset from recordlinkage library"
   ]
  },
  {
   "cell_type": "code",
   "execution_count": 3,
   "metadata": {},
   "outputs": [
    {
     "data": {
      "text/html": [
       "<div>\n",
       "<style scoped>\n",
       "    .dataframe tbody tr th:only-of-type {\n",
       "        vertical-align: middle;\n",
       "    }\n",
       "\n",
       "    .dataframe tbody tr th {\n",
       "        vertical-align: top;\n",
       "    }\n",
       "\n",
       "    .dataframe thead th {\n",
       "        text-align: right;\n",
       "    }\n",
       "</style>\n",
       "<table border=\"1\" class=\"dataframe\">\n",
       "  <thead>\n",
       "    <tr style=\"text-align: right;\">\n",
       "      <th></th>\n",
       "      <th>given_name</th>\n",
       "      <th>surname</th>\n",
       "      <th>street_number</th>\n",
       "      <th>address_1</th>\n",
       "      <th>address_2</th>\n",
       "      <th>suburb</th>\n",
       "      <th>postcode</th>\n",
       "      <th>state</th>\n",
       "      <th>date_of_birth</th>\n",
       "      <th>soc_sec_id</th>\n",
       "    </tr>\n",
       "    <tr>\n",
       "      <th>rec_id</th>\n",
       "      <th></th>\n",
       "      <th></th>\n",
       "      <th></th>\n",
       "      <th></th>\n",
       "      <th></th>\n",
       "      <th></th>\n",
       "      <th></th>\n",
       "      <th></th>\n",
       "      <th></th>\n",
       "      <th></th>\n",
       "    </tr>\n",
       "  </thead>\n",
       "  <tbody>\n",
       "    <tr>\n",
       "      <th>rec-223-org</th>\n",
       "      <td>NaN</td>\n",
       "      <td>waller</td>\n",
       "      <td>6</td>\n",
       "      <td>tullaroop street</td>\n",
       "      <td>willaroo</td>\n",
       "      <td>st james</td>\n",
       "      <td>4011</td>\n",
       "      <td>wa</td>\n",
       "      <td>19081209</td>\n",
       "      <td>6988048</td>\n",
       "    </tr>\n",
       "    <tr>\n",
       "      <th>rec-122-org</th>\n",
       "      <td>lachlan</td>\n",
       "      <td>berry</td>\n",
       "      <td>69</td>\n",
       "      <td>giblin street</td>\n",
       "      <td>killarney</td>\n",
       "      <td>bittern</td>\n",
       "      <td>4814</td>\n",
       "      <td>qld</td>\n",
       "      <td>19990219</td>\n",
       "      <td>7364009</td>\n",
       "    </tr>\n",
       "    <tr>\n",
       "      <th>rec-373-org</th>\n",
       "      <td>deakin</td>\n",
       "      <td>sondergeld</td>\n",
       "      <td>48</td>\n",
       "      <td>goldfinch circuit</td>\n",
       "      <td>kooltuo</td>\n",
       "      <td>canterbury</td>\n",
       "      <td>2776</td>\n",
       "      <td>vic</td>\n",
       "      <td>19600210</td>\n",
       "      <td>2635962</td>\n",
       "    </tr>\n",
       "    <tr>\n",
       "      <th>rec-10-dup-0</th>\n",
       "      <td>kayla</td>\n",
       "      <td>harrington</td>\n",
       "      <td>NaN</td>\n",
       "      <td>maltby circuit</td>\n",
       "      <td>coaling</td>\n",
       "      <td>coolaroo</td>\n",
       "      <td>3465</td>\n",
       "      <td>nsw</td>\n",
       "      <td>19150612</td>\n",
       "      <td>9004242</td>\n",
       "    </tr>\n",
       "    <tr>\n",
       "      <th>rec-227-org</th>\n",
       "      <td>luke</td>\n",
       "      <td>purdon</td>\n",
       "      <td>23</td>\n",
       "      <td>ramsay place</td>\n",
       "      <td>mirani</td>\n",
       "      <td>garbutt</td>\n",
       "      <td>2260</td>\n",
       "      <td>vic</td>\n",
       "      <td>19831024</td>\n",
       "      <td>8099933</td>\n",
       "    </tr>\n",
       "  </tbody>\n",
       "</table>\n",
       "</div>"
      ],
      "text/plain": [
       "             given_name     surname street_number          address_1  \\\n",
       "rec_id                                                                 \n",
       "rec-223-org         NaN      waller             6   tullaroop street   \n",
       "rec-122-org     lachlan       berry            69      giblin street   \n",
       "rec-373-org      deakin  sondergeld            48  goldfinch circuit   \n",
       "rec-10-dup-0      kayla  harrington           NaN     maltby circuit   \n",
       "rec-227-org        luke      purdon            23       ramsay place   \n",
       "\n",
       "              address_2      suburb postcode state date_of_birth soc_sec_id  \n",
       "rec_id                                                                       \n",
       "rec-223-org    willaroo    st james     4011    wa      19081209    6988048  \n",
       "rec-122-org   killarney     bittern     4814   qld      19990219    7364009  \n",
       "rec-373-org     kooltuo  canterbury     2776   vic      19600210    2635962  \n",
       "rec-10-dup-0    coaling    coolaroo     3465   nsw      19150612    9004242  \n",
       "rec-227-org      mirani     garbutt     2260   vic      19831024    8099933  "
      ]
     },
     "execution_count": 3,
     "metadata": {},
     "output_type": "execute_result"
    }
   ],
   "source": [
    "#import data set\n",
    "from recordlinkage.datasets import load_febrl1\n",
    "#create a dataframe - dfa\n",
    "dfA = load_febrl1()\n",
    "dfA.head()"
   ]
  },
  {
   "cell_type": "code",
   "execution_count": 4,
   "metadata": {},
   "outputs": [
    {
     "name": "stdout",
     "output_type": "stream",
     "text": [
      "2082\n"
     ]
    }
   ],
   "source": [
    "#  let’s build the pairs using the first name as the blocking index.\n",
    "indexer = recordlinkage.BlockIndex(on='given_name')\n",
    "pairs = indexer.index(dfA)\n",
    "print (len(pairs))"
   ]
  },
  {
   "cell_type": "code",
   "execution_count": null,
   "metadata": {},
   "outputs": [],
   "source": [
    "# This cell can take some time to compute.\n",
    "compare_cl = recordlinkage.Compare()\n",
    "compare_cl.string('given_name', 'given_name',method='jarowinkler', label='given_name')\n",
    "compare_cl.string('surname', 'surname', method='jarowinkler', label='surname')\n",
    "compare_cl.exact('date_of_birth', 'date_of_birth', label='date_of_birth')\n",
    "compare_cl.exact('suburb', 'suburb', label='suburb')\n",
    "compare_cl.exact('state', 'state', label='state')\n",
    "compare_cl.string('address_1', 'address_1',method='jarowinkler',label='address_1')\n",
    "features = compare_cl.compute(pairs, dfA)\n",
    "features.sample(5)"
   ]
  },
  {
   "cell_type": "code",
   "execution_count": null,
   "metadata": {},
   "outputs": [],
   "source": [
    "# select all the features except for given_name since its our blocking key\n",
    "features1 = features[['suburb','state','surname','date_of_birth','address_1']]\n",
    "# Unsupervised learning – probabilistic\n",
    "ecm = recordlinkage.ECMClassifier()\n",
    "result_ecm = ecm.learn((features1).astype(int),return_type ='series')\n",
    "result_ecm"
   ]
  },
  {
   "cell_type": "markdown",
   "metadata": {},
   "source": [
    "# deduplication in multiple tables"
   ]
  },
  {
   "cell_type": "code",
   "execution_count": 6,
   "metadata": {},
   "outputs": [
    {
     "data": {
      "text/html": [
       "<div>\n",
       "<style scoped>\n",
       "    .dataframe tbody tr th:only-of-type {\n",
       "        vertical-align: middle;\n",
       "    }\n",
       "\n",
       "    .dataframe tbody tr th {\n",
       "        vertical-align: top;\n",
       "    }\n",
       "\n",
       "    .dataframe thead th {\n",
       "        text-align: right;\n",
       "    }\n",
       "</style>\n",
       "<table border=\"1\" class=\"dataframe\">\n",
       "  <thead>\n",
       "    <tr style=\"text-align: right;\">\n",
       "      <th></th>\n",
       "      <th>given_name</th>\n",
       "      <th>surname</th>\n",
       "      <th>street_number</th>\n",
       "      <th>address_1</th>\n",
       "      <th>address_2</th>\n",
       "      <th>suburb</th>\n",
       "      <th>postcode</th>\n",
       "      <th>state</th>\n",
       "      <th>date_of_birth</th>\n",
       "      <th>soc_sec_id</th>\n",
       "    </tr>\n",
       "    <tr>\n",
       "      <th>rec_id</th>\n",
       "      <th></th>\n",
       "      <th></th>\n",
       "      <th></th>\n",
       "      <th></th>\n",
       "      <th></th>\n",
       "      <th></th>\n",
       "      <th></th>\n",
       "      <th></th>\n",
       "      <th></th>\n",
       "      <th></th>\n",
       "    </tr>\n",
       "  </thead>\n",
       "  <tbody>\n",
       "    <tr>\n",
       "      <th>rec-561-dup-0</th>\n",
       "      <td>elton</td>\n",
       "      <td>NaN</td>\n",
       "      <td>3</td>\n",
       "      <td>light setreet</td>\n",
       "      <td>pinehill</td>\n",
       "      <td>windermere</td>\n",
       "      <td>3212</td>\n",
       "      <td>vic</td>\n",
       "      <td>19651013</td>\n",
       "      <td>1551941</td>\n",
       "    </tr>\n",
       "    <tr>\n",
       "      <th>rec-2642-dup-0</th>\n",
       "      <td>mitchell</td>\n",
       "      <td>maxon</td>\n",
       "      <td>47</td>\n",
       "      <td>edkins street</td>\n",
       "      <td>lochaoair</td>\n",
       "      <td>north ryde</td>\n",
       "      <td>3355</td>\n",
       "      <td>nsw</td>\n",
       "      <td>19390212</td>\n",
       "      <td>8859999</td>\n",
       "    </tr>\n",
       "    <tr>\n",
       "      <th>rec-608-dup-0</th>\n",
       "      <td>NaN</td>\n",
       "      <td>white</td>\n",
       "      <td>72</td>\n",
       "      <td>lambrigg street</td>\n",
       "      <td>kelgoola</td>\n",
       "      <td>broadbeach waters</td>\n",
       "      <td>3159</td>\n",
       "      <td>vic</td>\n",
       "      <td>19620216</td>\n",
       "      <td>9731855</td>\n",
       "    </tr>\n",
       "    <tr>\n",
       "      <th>rec-3239-dup-0</th>\n",
       "      <td>elk i</td>\n",
       "      <td>menzies</td>\n",
       "      <td>1</td>\n",
       "      <td>lyster place</td>\n",
       "      <td>NaN</td>\n",
       "      <td>northwood</td>\n",
       "      <td>2585</td>\n",
       "      <td>vic</td>\n",
       "      <td>19980624</td>\n",
       "      <td>4970481</td>\n",
       "    </tr>\n",
       "    <tr>\n",
       "      <th>rec-2886-dup-0</th>\n",
       "      <td>NaN</td>\n",
       "      <td>garanggar</td>\n",
       "      <td>NaN</td>\n",
       "      <td>may maxwell crescent</td>\n",
       "      <td>springettst arcade</td>\n",
       "      <td>forest hill</td>\n",
       "      <td>2342</td>\n",
       "      <td>vic</td>\n",
       "      <td>19921016</td>\n",
       "      <td>1366884</td>\n",
       "    </tr>\n",
       "  </tbody>\n",
       "</table>\n",
       "</div>"
      ],
      "text/plain": [
       "               given_name    surname street_number             address_1  \\\n",
       "rec_id                                                                     \n",
       "rec-561-dup-0       elton        NaN             3         light setreet   \n",
       "rec-2642-dup-0   mitchell      maxon            47         edkins street   \n",
       "rec-608-dup-0         NaN      white            72       lambrigg street   \n",
       "rec-3239-dup-0      elk i    menzies             1          lyster place   \n",
       "rec-2886-dup-0        NaN  garanggar           NaN  may maxwell crescent   \n",
       "\n",
       "                         address_2             suburb postcode state  \\\n",
       "rec_id                                                                 \n",
       "rec-561-dup-0             pinehill         windermere     3212   vic   \n",
       "rec-2642-dup-0           lochaoair         north ryde     3355   nsw   \n",
       "rec-608-dup-0             kelgoola  broadbeach waters     3159   vic   \n",
       "rec-3239-dup-0                 NaN          northwood     2585   vic   \n",
       "rec-2886-dup-0  springettst arcade        forest hill     2342   vic   \n",
       "\n",
       "               date_of_birth soc_sec_id  \n",
       "rec_id                                   \n",
       "rec-561-dup-0       19651013    1551941  \n",
       "rec-2642-dup-0      19390212    8859999  \n",
       "rec-608-dup-0       19620216    9731855  \n",
       "rec-3239-dup-0      19980624    4970481  \n",
       "rec-2886-dup-0      19921016    1366884  "
      ]
     },
     "execution_count": 6,
     "metadata": {},
     "output_type": "execute_result"
    }
   ],
   "source": [
    "from recordlinkage.datasets import load_febrl4\n",
    "dfA, dfB = load_febrl4()\n",
    "dfB.head()"
   ]
  },
  {
   "cell_type": "code",
   "execution_count": null,
   "metadata": {},
   "outputs": [],
   "source": [
    "indexer = recordlinkage.BlockIndex(on='given_name')\n",
    "pairs = indexer.index(dfA, dfB)"
   ]
  },
  {
   "cell_type": "code",
   "execution_count": null,
   "metadata": {},
   "outputs": [],
   "source": [
    "compare_cl = recordlinkage.Compare()\n",
    "compare_cl.string('given_name', 'given_name',method='jarowinkler',label='given_name')\n",
    "compare_cl.string('surname', 'surname', method='jarowinkler',label='surname')\n",
    "compare_cl.exact('date_of_birth', 'date_of_birth', label='date_of_birth')\n",
    "compare_cl.exact('suburb', 'suburb', label='suburb')\n",
    "compare_cl.exact('state', 'state', label='state')\n",
    "compare_cl.string('address_1', 'address_1',method='jarowinkler',label='address_1')\n",
    "features = compare_cl.compute(pairs, dfA, dfB)\n",
    "features.head(10)"
   ]
  },
  {
   "cell_type": "markdown",
   "metadata": {},
   "source": [
    "\"\"\"\n",
    "ECM – classifier : is an unsupervised learning method to calculate the probability that the record is a match.\n",
    "\"\"\" "
   ]
  },
  {
   "cell_type": "code",
   "execution_count": null,
   "metadata": {},
   "outputs": [],
   "source": [
    "# select all the features except for given_name since its our blocking key\n",
    "features1 = features[['suburb','state','surname','date_of_birth','address_1']]\n",
    "# unsupervised learning - probablistic\n",
    "ecm = recordlinkage.ECMClassifier()\n",
    "result_ecm = ecm.learn((features1).astype(int),return_type ='series')\n",
    "result_ecm"
   ]
  },
  {
   "cell_type": "code",
   "execution_count": null,
   "metadata": {},
   "outputs": [],
   "source": []
  },
  {
   "cell_type": "code",
   "execution_count": null,
   "metadata": {},
   "outputs": [],
   "source": []
  }
 ],
 "metadata": {
  "kernelspec": {
   "display_name": "Python 3",
   "language": "python",
   "name": "python3"
  },
  "language_info": {
   "codemirror_mode": {
    "name": "ipython",
    "version": 3
   },
   "file_extension": ".py",
   "mimetype": "text/x-python",
   "name": "python",
   "nbconvert_exporter": "python",
   "pygments_lexer": "ipython3",
   "version": "3.7.6"
  }
 },
 "nbformat": 4,
 "nbformat_minor": 4
}
