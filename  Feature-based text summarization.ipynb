{
 "cells": [
  {
   "cell_type": "markdown",
   "metadata": {},
   "source": [
    "# Feature-Based Text Summarization "
   ]
  },
  {
   "cell_type": "markdown",
   "metadata": {},
   "source": [
    "\"\"\"\n",
    "text summarization methods will extract a feature from the sentence and check the importance to rank it. Position, length, term frequency, named entity, and many other features are used to calculate the\n",
    "score\n",
    "\n",
    "\"\"\""
   ]
  },
  {
   "cell_type": "markdown",
   "metadata": {},
   "source": [
    "# Luhn’s Algorithm is one of the feature-based algorithms, and implement it using the sumy library."
   ]
  },
  {
   "cell_type": "code",
   "execution_count": 2,
   "metadata": {},
   "outputs": [],
   "source": [
    "# Import the packages\n",
    "from sumy.parsers.html import HtmlParser\n",
    "from sumy.parsers.plaintext import PlaintextParser\n",
    "from sumy.nlp.tokenizers import Tokenizer\n",
    "from sumy.summarizers.lsa import LsaSummarizer\n",
    "from sumy.nlp.stemmers import Stemmer\n",
    "from sumy.utils import get_stop_words\n",
    "from sumy.summarizers.luhn import LuhnSummarizer"
   ]
  },
  {
   "cell_type": "code",
   "execution_count": 3,
   "metadata": {},
   "outputs": [],
   "source": [
    "# Extracting and summarizing\n",
    "LANGUAGE = \"english\"\n",
    "SENTENCES_COUNT = 10"
   ]
  },
  {
   "cell_type": "code",
   "execution_count": 6,
   "metadata": {},
   "outputs": [
    {
     "name": "stdout",
     "output_type": "stream",
     "text": [
      "This consistency, more or less, skews the data and hamper the Machine learning algorithms to predict correctly.\n",
      "The Gini Index is calculated by subtracting the sum of the squared probabilities of each class from one.\n",
      "Mathematically speaking, Entropy takes into account the samples, and their information gain to build up a tree.\n",
      "In our example, we can conclude that at max_depth = 6, we observe the low impurity nodes thus increasing the accuracy of our model.\n",
      "Therefore with taking the criteria as Gini and max_depth = 6, we obtained the accuracy as 32% which is an 18% increase from without using parametric optimization.\n",
      "Hence, Optimizing the parameter rightfully, will increase the model accuracy and provide better results.\n",
      "I am currently enrolled in Masters in Business Analytics program at University of Illinois at Chicago.\n",
      "I am currently enrolled in Masters in Business Analytics program at University of Illinois at Chicago.\n",
      "On Medium, smart voices and original ideas take center stage - with no ads in sight.\n",
      "Watch Follow all the topics you care about, and we’ll deliver the best stories for you to your homepage and inbox.\n"
     ]
    }
   ],
   "source": [
    "url=\"https://towardsdatascience.com/decision-trees-parametric-optimization-344354bd3db5\" \n",
    "\n",
    "parser = HtmlParser.from_url(url, Tokenizer(LANGUAGE))\n",
    "\n",
    "summarizer = LsaSummarizer()\n",
    "summarizer = LsaSummarizer(Stemmer(LANGUAGE))\n",
    "summarizer.stop_words = get_stop_words(LANGUAGE)\n",
    "\n",
    "for sentence in summarizer(parser.document, SENTENCES_COUNT):\n",
    "    print(sentence)"
   ]
  },
  {
   "cell_type": "code",
   "execution_count": null,
   "metadata": {},
   "outputs": [],
   "source": []
  },
  {
   "cell_type": "code",
   "execution_count": null,
   "metadata": {},
   "outputs": [],
   "source": []
  },
  {
   "cell_type": "code",
   "execution_count": null,
   "metadata": {},
   "outputs": [],
   "source": []
  },
  {
   "cell_type": "code",
   "execution_count": null,
   "metadata": {},
   "outputs": [],
   "source": []
  }
 ],
 "metadata": {
  "kernelspec": {
   "display_name": "Python 3",
   "language": "python",
   "name": "python3"
  },
  "language_info": {
   "codemirror_mode": {
    "name": "ipython",
    "version": 3
   },
   "file_extension": ".py",
   "mimetype": "text/x-python",
   "name": "python",
   "nbconvert_exporter": "python",
   "pygments_lexer": "ipython3",
   "version": "3.7.6"
  }
 },
 "nbformat": 4,
 "nbformat_minor": 4
}
