{
 "cells": [
  {
   "cell_type": "code",
   "execution_count": 2,
   "metadata": {},
   "outputs": [
    {
     "name": "stdout",
     "output_type": "stream",
     "text": [
      "Collecting docx2txt\n",
      "  Downloading docx2txt-0.8.tar.gz (2.8 kB)\n",
      "Building wheels for collected packages: docx2txt\n",
      "  Building wheel for docx2txt (setup.py): started\n",
      "  Building wheel for docx2txt (setup.py): finished with status 'done'\n",
      "  Created wheel for docx2txt: filename=docx2txt-0.8-py3-none-any.whl size=3969 sha256=fada330f6fdd6a0a6d6efac1d955c0d93eb8f275bdc53550a391eb3824419b30\n",
      "  Stored in directory: c:\\users\\baban\\appdata\\local\\pip\\cache\\wheels\\b7\\20\\b2\\473e3aea9a0c0d3e7b2f7bd81d06d0794fec12752733d1f3a8\n",
      "Successfully built docx2txt\n",
      "Installing collected packages: docx2txt\n",
      "Successfully installed docx2txt-0.8\n"
     ]
    }
   ],
   "source": []
  },
  {
   "cell_type": "code",
   "execution_count": 3,
   "metadata": {},
   "outputs": [],
   "source": [
    "# Import the library\n",
    "import docx2txt"
   ]
  },
  {
   "cell_type": "code",
   "execution_count": 4,
   "metadata": {},
   "outputs": [
    {
     "name": "stdout",
     "output_type": "stream",
     "text": [
      "Babandeep Singh\n",
      "\n",
      "Chicago, IL - 60605 || +1 (312) 874-8334 || bsingh8@uic.edu  || www.linkedin.com/in/babandeepsingh  \n",
      "\n",
      "EDUCATION: \n",
      "\n",
      "MS in Business Analytics, \n",
      "\n",
      "Expected: 12/2021\n",
      "\n",
      "University of Illinois at Chicago || GPA: 4/4\n",
      "\n",
      "Courses: Statistical Models & Machine Learning Methods, \n",
      "\n",
      "Advanced Database Management, Data Mining for Business.\n",
      "\n",
      "Bachelor’s in Mechanical Engineering,  \n",
      "\n",
      "08/2010 - 06/2014\n",
      "\n",
      "University of Mumbai\n",
      "\n",
      "EXPERIENCE: \n",
      "\n",
      "Product Engineer, Riddell Sports \t\t\t\t\t\t\t\t          04/2018 -10/2019\n",
      "\n",
      "Collaborated with R&D, Product Management teams to design, & validate a wide range of NFL helmets.\n",
      "\n",
      "Developed ad-hoc analytical performance dashboards using Tableau & Excel for cross functional teams. \n",
      "\n",
      "Mechanical Engineer, Freedom Motors USA Inc.\t\t\t\t\t\t         03/2017 - 04/2018\n",
      "\n",
      "Researched new materials & production techniques to facilitate better CAD modeling & assembly leading to 28% increase in production.\n",
      "\n",
      "Leveraged linear regression to forecast workflow, ordering of raw material & tracking production goals.\n",
      "\n",
      "Maintained a production error rate consistently below 3% through precise attention in the shop floor activities.\n",
      "\n",
      "KEY QUALIFICATIONS \n",
      "\n",
      "Tools: Scripting and querying in Python, MySQL, & R, visualization in Tableau, Looker\n",
      "\n",
      "Familiarity with the entire ML algorithm life cycle (modeling approach ideation, POC, data exploration, data processing, feature extraction & construction, model development, evaluation, iteration)\n",
      "\n",
      "Data science libraries used e1071, caret, Pandas, NumPy, SciPy, Scikit-learn, TensorFlow, Keras, Statsmodel, Spacy, gensim, nltk.\n",
      "\n",
      "Experience with data exploration utilizing data visualization tools (Seaborn, Matplotlib, ggplot2, Plotly)\n",
      "\n",
      "Strong experience with supervised & unsupervised Machine Learning Models- Regression: Linear, logistics, lasso, Ridge, Classifiers: SVM, K-NN, Decision trees, Perceptron, Stochastic Gradient Descent Generative: Naïve Bayes, LDA, Ensemble: Random Forests, XgBoost, GBM, Unsupervised: K-means, DBSCAN, Hierarchical clustering, Deep Learning: CNN,RNN (LSTM, biLSTM).\n",
      "\n",
      "ACADEMIC PROJECT\n",
      "\n",
      "Machine Learning for Data Processing (NLP)\t\t\t\t\t\t\t       May 2020 – Present\n",
      "\n",
      "Transform the raw unstructured input data into an operable data by applying intelligent computational models, building computational models (CNN, RNN-LSTM) that tailor the input data & utilize out-of-core classification Methods to predict the next words given the context.\n",
      "\n",
      "Kaggle Competition- Fifa2019 Dataset\t\t\t\t\t\t\t\t         03/2020 - 05/2020\n",
      "\n",
      "Developed a classifier with accuracy of 94% to predict the player ratings & aid in generating strategies to reduce cost to investors and yet make a dream team. Utilized SVM, Decision Trees, k-NN, logistic regression in python (with t-tests, chi-square test, univariate & bivariate analysis)\n",
      "\n",
      "Yelp Sentiment Analysis\t\t\t\t\t\t\t\t\t         03/2020 - 05/2020\n",
      "\n",
      "Created models for sentiment analysis using AFINN, Bing & NRC dictionaries. leveraged Naive Bayesian classifier, ensemble (random forest), regression (decision trees, logistic) & classifiers (SVM, k-NN) with accuracy of 87% in R. \n",
      "\n",
      "Market Segmentation\t\t\t\t\t\t\t\t\t\t         02/2020 - 04/2020\n",
      "\n",
      "Clustered market segments for targeted campaign runs using unsupervised machine learning methods (k-means, hierarchical, DBSCAN & k-medoids) & skillfully leveraging classification trees to find the target customers for right campaign in R.\n"
     ]
    }
   ],
   "source": [
    "# Store the resume in a variable\n",
    "resume = docx2txt.process(\"babandeep.docx\")\n",
    "\n",
    "# Print the resume\n",
    "print(resume)"
   ]
  },
  {
   "cell_type": "code",
   "execution_count": 25,
   "metadata": {},
   "outputs": [
    {
     "name": "stdout",
     "output_type": "stream",
     "text": [
      "Enter the job description Decoding cognitive states from brain data is a recent field that has been growing in popularity. Most decoding studies that study language use functional Magnetic Resonance Imaging (fMRI), while some studies use MEG. MEG’s high temporal resolution makes it invaluable for looking at the dynamics of language understanding. (Sudre et al., 2012) decode from MEG the word a subject is reading. The authors estimate from the MEG data the semantic features of the word and use these as\n",
      "Decoding cognitive states from brain data is a recent field that has been growing in popularity. Most decoding studies that study language use functional Magnetic Resonance Imaging (fMRI), while some studies use MEG. MEG’s high temporal resolution makes it invaluable for looking at the dynamics of language understanding. (Sudre et al., 2012) decode from MEG the word a subject is reading. The authors estimate from the MEG data the semantic features of the word and use these as\n"
     ]
    }
   ],
   "source": [
    "# Store the job description into a variable\n",
    "job_description = input(\"Enter the job description \")\n",
    "\n",
    "# Print the job description\n",
    "print(job_description)"
   ]
  },
  {
   "cell_type": "code",
   "execution_count": 26,
   "metadata": {},
   "outputs": [],
   "source": [
    "# A list of text\n",
    "text = [resume, job_description]"
   ]
  },
  {
   "cell_type": "code",
   "execution_count": 27,
   "metadata": {},
   "outputs": [],
   "source": [
    "from sklearn.feature_extraction.text import CountVectorizer\n",
    "cv = CountVectorizer()\n",
    "count_matrix = cv.fit_transform(text)"
   ]
  },
  {
   "cell_type": "code",
   "execution_count": 28,
   "metadata": {},
   "outputs": [
    {
     "name": "stdout",
     "output_type": "stream",
     "text": [
      "\n",
      "Similarity Scores:\n",
      "[[1.         0.25782422]\n",
      " [0.25782422 1.        ]]\n"
     ]
    }
   ],
   "source": [
    "from sklearn.metrics.pairwise import cosine_similarity\n",
    "\n",
    "#Print the similarity scores\n",
    "print(\"\\nSimilarity Scores:\")\n",
    "print(cosine_similarity(count_matrix))"
   ]
  },
  {
   "cell_type": "code",
   "execution_count": 29,
   "metadata": {},
   "outputs": [
    {
     "name": "stdout",
     "output_type": "stream",
     "text": [
      "Your resume matches about 25.78% of the job description.\n"
     ]
    }
   ],
   "source": [
    "#get the match percentage\n",
    "matchPercentage = cosine_similarity(count_matrix)[0][1] * 100\n",
    "matchPercentage = round(matchPercentage, 2) # round to two decimal\n",
    "print(\"Your resume matches about \"+ str(matchPercentage)+ \"% of the job description.\")"
   ]
  },
  {
   "cell_type": "code",
   "execution_count": null,
   "metadata": {},
   "outputs": [],
   "source": []
  },
  {
   "cell_type": "code",
   "execution_count": null,
   "metadata": {},
   "outputs": [],
   "source": []
  }
 ],
 "metadata": {
  "kernelspec": {
   "display_name": "Python 3",
   "language": "python",
   "name": "python3"
  },
  "language_info": {
   "codemirror_mode": {
    "name": "ipython",
    "version": 3
   },
   "file_extension": ".py",
   "mimetype": "text/x-python",
   "name": "python",
   "nbconvert_exporter": "python",
   "pygments_lexer": "ipython3",
   "version": "3.7.6"
  }
 },
 "nbformat": 4,
 "nbformat_minor": 4
}
