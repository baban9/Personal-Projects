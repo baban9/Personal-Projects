{
 "cells": [
  {
   "cell_type": "code",
   "execution_count": 1,
   "metadata": {},
   "outputs": [],
   "source": [
    "import pyximport \n",
    "\n",
    "# Import summarize from gensim\n",
    "from gensim.summarization.summarizer import summarize\n",
    "from gensim.summarization import keywords\n",
    "\n",
    "# Import the library \n",
    "# to convert MSword doc to txt for processing. \n",
    "import docx2txt "
   ]
  },
  {
   "cell_type": "code",
   "execution_count": null,
   "metadata": {},
   "outputs": [],
   "source": []
  },
  {
   "cell_type": "code",
   "execution_count": 2,
   "metadata": {},
   "outputs": [
    {
     "data": {
      "text/plain": [
       "'Agencies of the U.S. Government certify the operational security of their information systems against the requirements of the FISMA Risk Management Framework (RMF).\\nThe RMF requires an agency to implement security controls specified in NIST SP 800-53 for the sensitivity (low, moderate, or high) of the agency’s systems.\\nWe recommend that the government fundamentally reform the RMF in two ways:  Replace the SP 800-53 controls with a set of fewer than 30 clear requirements that system owners must implement – and are able to understand.\\nThese recommendations are based on our experience with managing the risks associated with secure cloud operations and secure software development at a large commercial vendor, and on our understanding of Australia’s successful cybersecurity risk management program.\\nWe believe a new that approach to risk management is feasible and can lead to significant improvements in the cybersecurity of government systems and information – to the point that the government can become a leader and a positive example of sound cybersecurity practices.\\nRisk Management Since the original release of OMB Circular A-130 [1] in 1985, government cybersecurity policy and practice has been based on the principle of risk management: investment in security measures should be no greater than the expected harm prevented (the value of the harm resulting from a successful attack or accident affecting an information system times the likelihood of such a successful attack).\\nToday’s U.S. Government cybersecurity risk management practices are based on FISMA (the Federal Information Security Management Act) [3] and on the associated Risk Management Framework (RMF) [4], also developed by NIST.\\nThe RMF process requires Federal executives to approve security programs based on compliance documents and the text of SP 800-53, and to accept security risks that depend on people, processes, and technology that they often do not understand.\\nNonetheless, it is clear that any practical approach to managing cybersecurity for the Federal government – or any other organization – must be based on risk management.\\nAlternate Approaches to Managing Risk In their analysis, Langner and Pederson focus on information systems supporting critical infrastructure and argue that policies should specify mandatory security measures: “Fix the design vulnerabilities rather than hypothesize about threats.” In effect, they propose doing away with risk management.\\nAustralian government agencies manage risk, but failure to comply with mandatory requirements is much less subjective than is the case with the RMF, and any such failure must be reported to the government agencies responsible for information security.\\n5 Under the SDL and OSA, if a product team is unable to meet a requirement, a manager from the product team may approve an exception and accept the associated risk, but there are rules to ensure that the risk decision is appropriately informed:  The level of manager who can approve an exception is determined by the potential harm that could result from accepting the risk.\\nBefore a manager can approve an exception, he or she must review the exception and the risk it represents with a peer-level manager from the security team that manages the SDL or OSA process and requirements.\\nIn particular:  NIST should replace the control catalog of SP 800-53 with a set of mandatory security requirements (MSRs) for government agencies that are clear, concrete, and specified at a level corresponding to actions and decisions that system designers and operators will understand.\\nOMB should restructure the way that agencies review and approve decisions to accept cybersecurity risks, so that the level of approval for an exception is determined by the criticality of the requirement.\\nOne of a few agencies that are experts in cybersecurity should have responsibility for peer review of risk acceptance decisions – NIST and DHS are logical choices in for non-National Security Systems, and NSA for National Security Systems.\\nThe authors believe that adopting risk management practices that are scalable, comprehensible, and have proven successful in other environments will improve the security of U.S. Government information and systems, and thus help the U.S. Government become a good example of cybersecurity practices for the private sector and improve the confidence of citizens in the security of their information.\\nThe SDL was the first scalable and effective approach to achieving security assurance for large-scale software systems and has been applied by Microsoft and other development organizations.\\nRather than doors, locks and vaults, IT departments rely on a combination of strategies, technologies and user education to protect an enterprise against cybersecurity attacks that can compromise systems, steal data and other valuable company information, and damage an enterprise’s reputation.\\nBefore setting up a cybersecurity risk management system, the enterprise needs to determine what assets it needs to protect and prioritize.'"
      ]
     },
     "execution_count": 2,
     "metadata": {},
     "output_type": "execute_result"
    }
   ],
   "source": [
    "# Store the resume in a variable\n",
    "resume = docx2txt.process(\"test.docx\") \n",
    "text_resume = str(resume)\n",
    "\n",
    "#Summarize the text with ratio 0.1 (10% of the total words.)\n",
    "summarize(text_resume, ratio=0.1)"
   ]
  },
  {
   "cell_type": "code",
   "execution_count": 3,
   "metadata": {},
   "outputs": [
    {
     "name": "stdout",
     "output_type": "stream",
     "text": [
      " Enter Job description : Incorrect handling of program input is one of the most common failings in software security. Program input refers to any source of data that originates outside the program and whose value is not explicitly known by the programmer when the code was written. This obviously includes data read into the program from user keyboard or mouse entry, files, or network connections. However, it also includes data supplied to the program in the execution environment, the values of any configuration or other data read from files by the program, and values supplied by the operating system to the program. All sources of input data, and any assumptions about the size and type of values they take, have to be identified. Those assumptions must be explicitly verified by the program code, and the values must be used in a manner consistent with these assumptions. The two key areas of concern for any input are the size of the input and the meaning and interpretation of the input.\n"
     ]
    }
   ],
   "source": [
    "text = input(\" Enter Job description : \") # Prompt for the Job desciption. \n",
    "# Convert text to string format\n",
    "text = str(text)"
   ]
  },
  {
   "cell_type": "code",
   "execution_count": 8,
   "metadata": {},
   "outputs": [
    {
     "data": {
      "text/plain": [
       "'Program input refers to any source of data that originates outside the program and whose value is not explicitly known by the programmer when the code was written.\\nThis obviously includes data read into the program from user keyboard or mouse entry, files, or network connections.\\nAll sources of input data, and any assumptions about the size and type of values they take, have to be identified.'"
      ]
     },
     "execution_count": 8,
     "metadata": {},
     "output_type": "execute_result"
    }
   ],
   "source": [
    "#Summarize the text with ratio 0.1 (10% of the total words.)\n",
    "summarize(text, ratio=0.5)"
   ]
  },
  {
   "cell_type": "code",
   "execution_count": 35,
   "metadata": {},
   "outputs": [
    {
     "name": "stdout",
     "output_type": "stream",
     "text": [
      "data\n",
      "medidata\n",
      "technology\n",
      "technologies\n",
      "experience\n",
      "complex analytics\n",
      "analytical product\n",
      "development\n",
      "develop\n",
      "developed\n",
      "modeling\n",
      "model\n",
      "advanced\n",
      "innovation\n",
      "innovative analytic applications\n",
      "science solutions\n",
      "business\n",
      "sciences creating\n",
      "transformation\n",
      "transform\n",
      "employer\n",
      "employment\n",
      "create\n",
      "statistical\n",
      "statistics\n",
      "functions\n",
      "products\n",
      "gender\n",
      "assess\n",
      "production settings\n",
      "systemes\n",
      "systems\n",
      "medical\n",
      "trial\n",
      "trials\n",
      "enabling\n",
      "registered\n",
      "york\n",
      "setting\n",
      "non\n",
      "applicants\n",
      "applicable\n",
      "companies\n",
      "company\n",
      "datasets\n",
      "dataset\n",
      "ability\n",
      "abilities\n",
      "master\n",
      "status protected\n",
      "law\n",
      "laws\n",
      "structured\n",
      "largest\n",
      "enterprise\n",
      "accelerating\n",
      "researchers accelerate\n",
      "research\n",
      "helps\n",
      "help\n",
      "patients\n",
      "job\n",
      "drug\n",
      "drugs\n",
      "sources\n",
      "clinical\n",
      "engineering best\n",
      "entrepreneurial\n",
      "leadership\n",
      "equal\n",
      "engineer\n",
      "life\n",
      "verbal\n"
     ]
    }
   ],
   "source": [
    "#keywords\n",
    "print(keywords(text, ratio=0.25))"
   ]
  },
  {
   "cell_type": "code",
   "execution_count": null,
   "metadata": {},
   "outputs": [],
   "source": []
  },
  {
   "cell_type": "markdown",
   "metadata": {},
   "source": [
    "# Matching "
   ]
  },
  {
   "cell_type": "code",
   "execution_count": 36,
   "metadata": {},
   "outputs": [],
   "source": [
    "# recycle the text variable from summarizing \n",
    "# creating A list of text\n",
    "text_list = [resume, text]\n",
    "from sklearn.feature_extraction.text import CountVectorizer\n",
    "cv = CountVectorizer()\n",
    "count_matrix = cv.fit_transform(text_list)"
   ]
  },
  {
   "cell_type": "code",
   "execution_count": 37,
   "metadata": {},
   "outputs": [
    {
     "name": "stdout",
     "output_type": "stream",
     "text": [
      "Your resume matches about 48.68% of the job description.\n"
     ]
    }
   ],
   "source": [
    "from sklearn.metrics.pairwise import cosine_similarity\n",
    "# get the match percentage\n",
    "matchPercentage = cosine_similarity(count_matrix)[0][1] * 100\n",
    "matchPercentage = round(matchPercentage, 2) # round to two decimal\n",
    "print(\"Your resume matches about \"+ str(matchPercentage)+ \"% of the job description.\")"
   ]
  },
  {
   "cell_type": "code",
   "execution_count": null,
   "metadata": {},
   "outputs": [],
   "source": []
  },
  {
   "cell_type": "code",
   "execution_count": null,
   "metadata": {},
   "outputs": [],
   "source": []
  },
  {
   "cell_type": "code",
   "execution_count": null,
   "metadata": {},
   "outputs": [],
   "source": []
  },
  {
   "cell_type": "code",
   "execution_count": null,
   "metadata": {},
   "outputs": [],
   "source": []
  }
 ],
 "metadata": {
  "kernelspec": {
   "display_name": "Python 3",
   "language": "python",
   "name": "python3"
  },
  "language_info": {
   "codemirror_mode": {
    "name": "ipython",
    "version": 3
   },
   "file_extension": ".py",
   "mimetype": "text/x-python",
   "name": "python",
   "nbconvert_exporter": "python",
   "pygments_lexer": "ipython3",
   "version": "3.7.6"
  }
 },
 "nbformat": 4,
 "nbformat_minor": 4
}
